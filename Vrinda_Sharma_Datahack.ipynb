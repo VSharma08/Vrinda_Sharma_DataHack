{
  "nbformat": 4,
  "nbformat_minor": 0,
  "metadata": {
    "colab": {
      "provenance": []
    },
    "kernelspec": {
      "name": "python3",
      "display_name": "Python 3"
    },
    "language_info": {
      "name": "python"
    }
  },
  "cells": [
    {
      "cell_type": "code",
      "source": [
        "#Loading and exploring the data\n",
        "import pandas as pd\n",
        "\n",
        "train_features = pd.read_csv('/content/hacthon/training_set_features.csv')\n",
        "train_labels = pd.read_csv('/content/hacthon/training_set_labels.csv')\n",
        "test_features = pd.read_csv('/content/hacthon/test_set_features.csv')\n",
        "\n",
        "print(train_features.head())\n",
        "print(train_labels.head())\n",
        "print(train_features.info())\n",
        "print(train_labels.info())\n"
      ],
      "metadata": {
        "colab": {
          "base_uri": "https://localhost:8080/"
        },
        "id": "YRnSvgxBNMjv",
        "outputId": "75ea8b90-0e33-4c9f-84e7-3f6711d31ff6"
      },
      "execution_count": 29,
      "outputs": [
        {
          "output_type": "stream",
          "name": "stdout",
          "text": [
            "   respondent_id  xyz_concern  xyz_knowledge  behavioral_antiviral_meds  \\\n",
            "0              0          1.0            0.0                        0.0   \n",
            "1              1          3.0            2.0                        0.0   \n",
            "2              2          1.0            1.0                        0.0   \n",
            "3              3          1.0            1.0                        0.0   \n",
            "4              4          2.0            1.0                        0.0   \n",
            "\n",
            "   behavioral_avoidance  behavioral_face_mask  behavioral_wash_hands  \\\n",
            "0                   0.0                   0.0                    0.0   \n",
            "1                   1.0                   0.0                    1.0   \n",
            "2                   1.0                   0.0                    0.0   \n",
            "3                   1.0                   0.0                    1.0   \n",
            "4                   1.0                   0.0                    1.0   \n",
            "\n",
            "   behavioral_large_gatherings  behavioral_outside_home  \\\n",
            "0                          0.0                      1.0   \n",
            "1                          0.0                      1.0   \n",
            "2                          0.0                      0.0   \n",
            "3                          1.0                      0.0   \n",
            "4                          1.0                      0.0   \n",
            "\n",
            "   behavioral_touch_face  ...             income_poverty  marital_status  \\\n",
            "0                    1.0  ...              Below Poverty     Not Married   \n",
            "1                    1.0  ...              Below Poverty     Not Married   \n",
            "2                    0.0  ...  <= $75,000, Above Poverty     Not Married   \n",
            "3                    0.0  ...              Below Poverty     Not Married   \n",
            "4                    1.0  ...  <= $75,000, Above Poverty         Married   \n",
            "\n",
            "   rent_or_own   employment_status  hhs_geo_region                census_msa  \\\n",
            "0          Own  Not in Labor Force        oxchjgsf                   Non-MSA   \n",
            "1         Rent            Employed        bhuqouqj  MSA, Not Principle  City   \n",
            "2          Own            Employed        qufhixun  MSA, Not Principle  City   \n",
            "3         Rent  Not in Labor Force        lrircsnp       MSA, Principle City   \n",
            "4          Own            Employed        qufhixun  MSA, Not Principle  City   \n",
            "\n",
            "   household_adults  household_children  employment_industry  \\\n",
            "0               0.0                 0.0                  NaN   \n",
            "1               0.0                 0.0             pxcmvdjn   \n",
            "2               2.0                 0.0             rucpziij   \n",
            "3               0.0                 0.0                  NaN   \n",
            "4               1.0                 0.0             wxleyezf   \n",
            "\n",
            "   employment_occupation  \n",
            "0                    NaN  \n",
            "1               xgwztkwe  \n",
            "2               xtkaffoo  \n",
            "3                    NaN  \n",
            "4               emcorrxb  \n",
            "\n",
            "[5 rows x 36 columns]\n",
            "   respondent_id  xyz_vaccine  seasonal_vaccine\n",
            "0              0            0                 0\n",
            "1              1            0                 1\n",
            "2              2            0                 0\n",
            "3              3            0                 1\n",
            "4              4            0                 0\n",
            "<class 'pandas.core.frame.DataFrame'>\n",
            "RangeIndex: 26707 entries, 0 to 26706\n",
            "Data columns (total 36 columns):\n",
            " #   Column                       Non-Null Count  Dtype  \n",
            "---  ------                       --------------  -----  \n",
            " 0   respondent_id                26707 non-null  int64  \n",
            " 1   xyz_concern                  26615 non-null  float64\n",
            " 2   xyz_knowledge                26591 non-null  float64\n",
            " 3   behavioral_antiviral_meds    26636 non-null  float64\n",
            " 4   behavioral_avoidance         26499 non-null  float64\n",
            " 5   behavioral_face_mask         26688 non-null  float64\n",
            " 6   behavioral_wash_hands        26665 non-null  float64\n",
            " 7   behavioral_large_gatherings  26620 non-null  float64\n",
            " 8   behavioral_outside_home      26625 non-null  float64\n",
            " 9   behavioral_touch_face        26579 non-null  float64\n",
            " 10  doctor_recc_xyz              24547 non-null  float64\n",
            " 11  doctor_recc_seasonal         24547 non-null  float64\n",
            " 12  chronic_med_condition        25736 non-null  float64\n",
            " 13  child_under_6_months         25887 non-null  float64\n",
            " 14  health_worker                25903 non-null  float64\n",
            " 15  health_insurance             14433 non-null  float64\n",
            " 16  opinion_xyz_vacc_effective   26316 non-null  float64\n",
            " 17  opinion_xyz_risk             26319 non-null  float64\n",
            " 18  opinion_xyz_sick_from_vacc   26312 non-null  float64\n",
            " 19  opinion_seas_vacc_effective  26245 non-null  float64\n",
            " 20  opinion_seas_risk            26193 non-null  float64\n",
            " 21  opinion_seas_sick_from_vacc  26170 non-null  float64\n",
            " 22  age_group                    26707 non-null  object \n",
            " 23  education                    25300 non-null  object \n",
            " 24  race                         26707 non-null  object \n",
            " 25  sex                          26707 non-null  object \n",
            " 26  income_poverty               22284 non-null  object \n",
            " 27  marital_status               25299 non-null  object \n",
            " 28  rent_or_own                  24665 non-null  object \n",
            " 29  employment_status            25244 non-null  object \n",
            " 30  hhs_geo_region               26707 non-null  object \n",
            " 31  census_msa                   26707 non-null  object \n",
            " 32  household_adults             26458 non-null  float64\n",
            " 33  household_children           26458 non-null  float64\n",
            " 34  employment_industry          13377 non-null  object \n",
            " 35  employment_occupation        13237 non-null  object \n",
            "dtypes: float64(23), int64(1), object(12)\n",
            "memory usage: 7.3+ MB\n",
            "None\n",
            "<class 'pandas.core.frame.DataFrame'>\n",
            "RangeIndex: 26707 entries, 0 to 26706\n",
            "Data columns (total 3 columns):\n",
            " #   Column            Non-Null Count  Dtype\n",
            "---  ------            --------------  -----\n",
            " 0   respondent_id     26707 non-null  int64\n",
            " 1   xyz_vaccine       26707 non-null  int64\n",
            " 2   seasonal_vaccine  26707 non-null  int64\n",
            "dtypes: int64(3)\n",
            "memory usage: 626.1 KB\n",
            "None\n"
          ]
        }
      ]
    },
    {
      "cell_type": "code",
      "source": [
        "# Merging the labels and feautres csv files\n",
        "train_data = train_features.merge(train_labels, on='respondent_id')\n",
        "\n",
        "print(train_data.head())\n",
        "print(train_data.info())"
      ],
      "metadata": {
        "colab": {
          "base_uri": "https://localhost:8080/"
        },
        "id": "uXIpQLPYOOcc",
        "outputId": "0c34b240-05ec-48ea-a495-a056735b54dd"
      },
      "execution_count": 17,
      "outputs": [
        {
          "output_type": "stream",
          "name": "stdout",
          "text": [
            "   respondent_id  xyz_concern  xyz_knowledge  behavioral_antiviral_meds  \\\n",
            "0              0          1.0            0.0                        0.0   \n",
            "1              1          3.0            2.0                        0.0   \n",
            "2              2          1.0            1.0                        0.0   \n",
            "3              3          1.0            1.0                        0.0   \n",
            "4              4          2.0            1.0                        0.0   \n",
            "\n",
            "   behavioral_avoidance  behavioral_face_mask  behavioral_wash_hands  \\\n",
            "0                   0.0                   0.0                    0.0   \n",
            "1                   1.0                   0.0                    1.0   \n",
            "2                   1.0                   0.0                    0.0   \n",
            "3                   1.0                   0.0                    1.0   \n",
            "4                   1.0                   0.0                    1.0   \n",
            "\n",
            "   behavioral_large_gatherings  behavioral_outside_home  \\\n",
            "0                          0.0                      1.0   \n",
            "1                          0.0                      1.0   \n",
            "2                          0.0                      0.0   \n",
            "3                          1.0                      0.0   \n",
            "4                          1.0                      0.0   \n",
            "\n",
            "   behavioral_touch_face  ...  rent_or_own   employment_status  \\\n",
            "0                    1.0  ...          Own  Not in Labor Force   \n",
            "1                    1.0  ...         Rent            Employed   \n",
            "2                    0.0  ...          Own            Employed   \n",
            "3                    0.0  ...         Rent  Not in Labor Force   \n",
            "4                    1.0  ...          Own            Employed   \n",
            "\n",
            "   hhs_geo_region                census_msa  household_adults  \\\n",
            "0        oxchjgsf                   Non-MSA               0.0   \n",
            "1        bhuqouqj  MSA, Not Principle  City               0.0   \n",
            "2        qufhixun  MSA, Not Principle  City               2.0   \n",
            "3        lrircsnp       MSA, Principle City               0.0   \n",
            "4        qufhixun  MSA, Not Principle  City               1.0   \n",
            "\n",
            "   household_children  employment_industry  employment_occupation  \\\n",
            "0                 0.0                  NaN                    NaN   \n",
            "1                 0.0             pxcmvdjn               xgwztkwe   \n",
            "2                 0.0             rucpziij               xtkaffoo   \n",
            "3                 0.0                  NaN                    NaN   \n",
            "4                 0.0             wxleyezf               emcorrxb   \n",
            "\n",
            "   xyz_vaccine  seasonal_vaccine  \n",
            "0            0                 0  \n",
            "1            0                 1  \n",
            "2            0                 0  \n",
            "3            0                 1  \n",
            "4            0                 0  \n",
            "\n",
            "[5 rows x 38 columns]\n",
            "<class 'pandas.core.frame.DataFrame'>\n",
            "RangeIndex: 26707 entries, 0 to 26706\n",
            "Data columns (total 38 columns):\n",
            " #   Column                       Non-Null Count  Dtype  \n",
            "---  ------                       --------------  -----  \n",
            " 0   respondent_id                26707 non-null  int64  \n",
            " 1   xyz_concern                  26615 non-null  float64\n",
            " 2   xyz_knowledge                26591 non-null  float64\n",
            " 3   behavioral_antiviral_meds    26636 non-null  float64\n",
            " 4   behavioral_avoidance         26499 non-null  float64\n",
            " 5   behavioral_face_mask         26688 non-null  float64\n",
            " 6   behavioral_wash_hands        26665 non-null  float64\n",
            " 7   behavioral_large_gatherings  26620 non-null  float64\n",
            " 8   behavioral_outside_home      26625 non-null  float64\n",
            " 9   behavioral_touch_face        26579 non-null  float64\n",
            " 10  doctor_recc_xyz              24547 non-null  float64\n",
            " 11  doctor_recc_seasonal         24547 non-null  float64\n",
            " 12  chronic_med_condition        25736 non-null  float64\n",
            " 13  child_under_6_months         25887 non-null  float64\n",
            " 14  health_worker                25903 non-null  float64\n",
            " 15  health_insurance             14433 non-null  float64\n",
            " 16  opinion_xyz_vacc_effective   26316 non-null  float64\n",
            " 17  opinion_xyz_risk             26319 non-null  float64\n",
            " 18  opinion_xyz_sick_from_vacc   26312 non-null  float64\n",
            " 19  opinion_seas_vacc_effective  26245 non-null  float64\n",
            " 20  opinion_seas_risk            26193 non-null  float64\n",
            " 21  opinion_seas_sick_from_vacc  26170 non-null  float64\n",
            " 22  age_group                    26707 non-null  object \n",
            " 23  education                    25300 non-null  object \n",
            " 24  race                         26707 non-null  object \n",
            " 25  sex                          26707 non-null  object \n",
            " 26  income_poverty               22284 non-null  object \n",
            " 27  marital_status               25299 non-null  object \n",
            " 28  rent_or_own                  24665 non-null  object \n",
            " 29  employment_status            25244 non-null  object \n",
            " 30  hhs_geo_region               26707 non-null  object \n",
            " 31  census_msa                   26707 non-null  object \n",
            " 32  household_adults             26458 non-null  float64\n",
            " 33  household_children           26458 non-null  float64\n",
            " 34  employment_industry          13377 non-null  object \n",
            " 35  employment_occupation        13237 non-null  object \n",
            " 36  xyz_vaccine                  26707 non-null  int64  \n",
            " 37  seasonal_vaccine             26707 non-null  int64  \n",
            "dtypes: float64(23), int64(3), object(12)\n",
            "memory usage: 7.7+ MB\n",
            "None\n"
          ]
        }
      ]
    },
    {
      "cell_type": "code",
      "source": [
        "# Data Preprocessing\n",
        "from sklearn.preprocessing import LabelEncoder, StandardScaler\n",
        "import numpy as np\n",
        "\n",
        "# Handling missing values\n",
        "# Here we are only sleecting the numerical values\n",
        "numeric_cols = train_data.select_dtypes(include=['number']).columns\n",
        "train_data[numeric_cols] = train_data[numeric_cols].fillna(train_data[numeric_cols].median())\n",
        "test_features[numeric_cols] = train_data[numeric_cols].fillna(test_features[numeric_cols].median())\n",
        "\n",
        "# Encoding the categorical variables\n",
        "categorical_cols = train_data.select_dtypes(include=['object']).columns\n",
        "label_encoders = {}\n",
        "\n",
        "for col in categorical_cols:\n",
        "    le = LabelEncoder()\n",
        "    train_data[col] = le.fit_transform(train_data[col].astype(str))\n",
        "    test_features[col] = le.transform(test_features[col].astype(str))\n",
        "    label_encoders[col] = le\n",
        "\n",
        "# Now we will be separating the features and target variables\n",
        "X = train_data.drop(['respondent_id', 'xyz_vaccine', 'seasonal_vaccine'], axis=1)\n",
        "y_xyz = train_data['xyz_vaccine']\n",
        "y_seasonal = train_data['seasonal_vaccine']"
      ],
      "metadata": {
        "id": "00ojwoYFNYwe"
      },
      "execution_count": 20,
      "outputs": []
    },
    {
      "cell_type": "code",
      "source": [
        "# Model traing by Random Forest\n",
        "from sklearn.model_selection import train_test_split\n",
        "from sklearn.ensemble import RandomForestClassifier\n",
        "\n",
        "# Spliting the data into training and validation sets\n",
        "X_train, X_val, y_xyz_train, y_xyz_val, y_seasonal_train, y_seasonal_val = train_test_split(\n",
        "    X, y_xyz, y_seasonal, test_size=0.2, random_state=42)\n",
        "\n",
        "# Initializing the Random Forest models\n",
        "model_xyz = RandomForestClassifier(random_state=42)\n",
        "model_seasonal = RandomForestClassifier(random_state=42)\n",
        "\n",
        "# Training the models\n",
        "model_xyz.fit(X_train, y_xyz_train)\n",
        "model_seasonal.fit(X_train, y_seasonal_train)"
      ],
      "metadata": {
        "colab": {
          "base_uri": "https://localhost:8080/",
          "height": 74
        },
        "id": "hxU3qtBAO36_",
        "outputId": "1753d50b-ecb2-49d5-976d-5275322ef23f"
      },
      "execution_count": 21,
      "outputs": [
        {
          "output_type": "execute_result",
          "data": {
            "text/plain": [
              "RandomForestClassifier(random_state=42)"
            ],
            "text/html": [
              "<style>#sk-container-id-1 {color: black;background-color: white;}#sk-container-id-1 pre{padding: 0;}#sk-container-id-1 div.sk-toggleable {background-color: white;}#sk-container-id-1 label.sk-toggleable__label {cursor: pointer;display: block;width: 100%;margin-bottom: 0;padding: 0.3em;box-sizing: border-box;text-align: center;}#sk-container-id-1 label.sk-toggleable__label-arrow:before {content: \"▸\";float: left;margin-right: 0.25em;color: #696969;}#sk-container-id-1 label.sk-toggleable__label-arrow:hover:before {color: black;}#sk-container-id-1 div.sk-estimator:hover label.sk-toggleable__label-arrow:before {color: black;}#sk-container-id-1 div.sk-toggleable__content {max-height: 0;max-width: 0;overflow: hidden;text-align: left;background-color: #f0f8ff;}#sk-container-id-1 div.sk-toggleable__content pre {margin: 0.2em;color: black;border-radius: 0.25em;background-color: #f0f8ff;}#sk-container-id-1 input.sk-toggleable__control:checked~div.sk-toggleable__content {max-height: 200px;max-width: 100%;overflow: auto;}#sk-container-id-1 input.sk-toggleable__control:checked~label.sk-toggleable__label-arrow:before {content: \"▾\";}#sk-container-id-1 div.sk-estimator input.sk-toggleable__control:checked~label.sk-toggleable__label {background-color: #d4ebff;}#sk-container-id-1 div.sk-label input.sk-toggleable__control:checked~label.sk-toggleable__label {background-color: #d4ebff;}#sk-container-id-1 input.sk-hidden--visually {border: 0;clip: rect(1px 1px 1px 1px);clip: rect(1px, 1px, 1px, 1px);height: 1px;margin: -1px;overflow: hidden;padding: 0;position: absolute;width: 1px;}#sk-container-id-1 div.sk-estimator {font-family: monospace;background-color: #f0f8ff;border: 1px dotted black;border-radius: 0.25em;box-sizing: border-box;margin-bottom: 0.5em;}#sk-container-id-1 div.sk-estimator:hover {background-color: #d4ebff;}#sk-container-id-1 div.sk-parallel-item::after {content: \"\";width: 100%;border-bottom: 1px solid gray;flex-grow: 1;}#sk-container-id-1 div.sk-label:hover label.sk-toggleable__label {background-color: #d4ebff;}#sk-container-id-1 div.sk-serial::before {content: \"\";position: absolute;border-left: 1px solid gray;box-sizing: border-box;top: 0;bottom: 0;left: 50%;z-index: 0;}#sk-container-id-1 div.sk-serial {display: flex;flex-direction: column;align-items: center;background-color: white;padding-right: 0.2em;padding-left: 0.2em;position: relative;}#sk-container-id-1 div.sk-item {position: relative;z-index: 1;}#sk-container-id-1 div.sk-parallel {display: flex;align-items: stretch;justify-content: center;background-color: white;position: relative;}#sk-container-id-1 div.sk-item::before, #sk-container-id-1 div.sk-parallel-item::before {content: \"\";position: absolute;border-left: 1px solid gray;box-sizing: border-box;top: 0;bottom: 0;left: 50%;z-index: -1;}#sk-container-id-1 div.sk-parallel-item {display: flex;flex-direction: column;z-index: 1;position: relative;background-color: white;}#sk-container-id-1 div.sk-parallel-item:first-child::after {align-self: flex-end;width: 50%;}#sk-container-id-1 div.sk-parallel-item:last-child::after {align-self: flex-start;width: 50%;}#sk-container-id-1 div.sk-parallel-item:only-child::after {width: 0;}#sk-container-id-1 div.sk-dashed-wrapped {border: 1px dashed gray;margin: 0 0.4em 0.5em 0.4em;box-sizing: border-box;padding-bottom: 0.4em;background-color: white;}#sk-container-id-1 div.sk-label label {font-family: monospace;font-weight: bold;display: inline-block;line-height: 1.2em;}#sk-container-id-1 div.sk-label-container {text-align: center;}#sk-container-id-1 div.sk-container {/* jupyter's `normalize.less` sets `[hidden] { display: none; }` but bootstrap.min.css set `[hidden] { display: none !important; }` so we also need the `!important` here to be able to override the default hidden behavior on the sphinx rendered scikit-learn.org. See: https://github.com/scikit-learn/scikit-learn/issues/21755 */display: inline-block !important;position: relative;}#sk-container-id-1 div.sk-text-repr-fallback {display: none;}</style><div id=\"sk-container-id-1\" class=\"sk-top-container\"><div class=\"sk-text-repr-fallback\"><pre>RandomForestClassifier(random_state=42)</pre><b>In a Jupyter environment, please rerun this cell to show the HTML representation or trust the notebook. <br />On GitHub, the HTML representation is unable to render, please try loading this page with nbviewer.org.</b></div><div class=\"sk-container\" hidden><div class=\"sk-item\"><div class=\"sk-estimator sk-toggleable\"><input class=\"sk-toggleable__control sk-hidden--visually\" id=\"sk-estimator-id-1\" type=\"checkbox\" checked><label for=\"sk-estimator-id-1\" class=\"sk-toggleable__label sk-toggleable__label-arrow\">RandomForestClassifier</label><div class=\"sk-toggleable__content\"><pre>RandomForestClassifier(random_state=42)</pre></div></div></div></div></div>"
            ]
          },
          "metadata": {},
          "execution_count": 21
        }
      ]
    },
    {
      "cell_type": "code",
      "source": [
        "from sklearn.metrics import roc_auc_score\n",
        "\n",
        "# Making the predictions\n",
        "y_xyz_pred = model_xyz.predict_proba(X_val)[:, 1]\n",
        "y_seasonal_pred = model_seasonal.predict_proba(X_val)[:, 1]\n",
        "\n",
        "# Now we are calculating the ROC AUC scores\n",
        "roc_auc_xyz = roc_auc_score(y_xyz_val, y_xyz_pred)\n",
        "roc_auc_seasonal = roc_auc_score(y_seasonal_val, y_seasonal_pred)\n",
        "\n",
        "print(f'ROC AUC for XYZ vaccine: {roc_auc_xyz}')\n",
        "print(f'ROC AUC for Seasonal vaccine: {roc_auc_seasonal}')"
      ],
      "metadata": {
        "colab": {
          "base_uri": "https://localhost:8080/"
        },
        "id": "VSJRAdJWPJxr",
        "outputId": "4ece7bd3-9821-4e17-b44a-81e79383be14"
      },
      "execution_count": 32,
      "outputs": [
        {
          "output_type": "stream",
          "name": "stdout",
          "text": [
            "ROC AUC for XYZ vaccine: 0.8291918790812596\n",
            "ROC AUC for Seasonal vaccine: 0.855460699724987\n"
          ]
        }
      ]
    },
    {
      "cell_type": "code",
      "source": [
        "# Now we make predicitons on the Test Data\n",
        "# We apply the same preprocessing steps to test data\n",
        "# We fill the missing values in numeric columns only\n",
        "test_features[numeric_cols] = test_features[numeric_cols].fillna(test_features[numeric_cols].median())\n",
        "\n",
        "# Encoding the categorical variables\n",
        "for col in categorical_cols:\n",
        "    test_features[col] = label_encoders[col].transform(test_features[col].astype(str))\n",
        "\n",
        "# Make predictions on the test data using the trained models\n",
        "xyz_pred_test = model_xyz.predict_proba(test_features.drop(['respondent_id'], axis=1))[:, 1]\n",
        "seasonal_pred_test = model_seasonal.predict_proba(test_features.drop(['respondent_id'], axis=1))[:, 1]"
      ],
      "metadata": {
        "id": "hEb_9Mb7RpNZ"
      },
      "execution_count": 40,
      "outputs": []
    },
    {
      "cell_type": "code",
      "source": [
        "# We now prepare for submission in csv format\n",
        "submission = pd.DataFrame({\n",
        "    'respondent_id': test_features['respondent_id'],\n",
        "    'xyz_vaccine': xyz_pred_test,\n",
        "    'seasonal_vaccine': seasonal_pred_test\n",
        "})\n",
        "\n",
        "# Save to CSV without the index column\n",
        "submission.to_csv('submission.csv', index=False)\n",
        "\n",
        "\n",
        "from google.colab import drive\n",
        "drive.mount('/content/drive')\n",
        "submission.to_csv('/content/drive/My Drive/submission.csv', index=False)"
      ],
      "metadata": {
        "colab": {
          "base_uri": "https://localhost:8080/"
        },
        "id": "08fYFBtDUuN1",
        "outputId": "40432e40-3738-48b6-d6cd-5e58c54216c0"
      },
      "execution_count": 44,
      "outputs": [
        {
          "output_type": "stream",
          "name": "stdout",
          "text": [
            "Mounted at /content/drive\n"
          ]
        }
      ]
    }
  ]
}